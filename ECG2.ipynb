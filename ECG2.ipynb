{
  "cells": [
    {
      "attachments": {},
      "cell_type": "markdown",
      "metadata": {},
      "source": [
        "# Ресурсы\n",
        "https://medium.com/orikami-blog/exploring-heart-rate-variability-using-python-483a7037c64d <br/>\n",
        "https://nicolasfauchereau.github.io/climatecode/posts/wavelet-analysis-in-python/ <br/>\n",
        "http://math.phys.msu.ru/data/189/MM_lec8.pdf <br/>\n",
        "https://ru.wikipedia.org/wiki/%D0%92%D0%B5%D0%B9%D0%B2%D0%BB%D0%B5%D1%82 <br/>\n",
        "https://ru.wikipedia.org/wiki/%D0%92%D0%B5%D0%B9%D0%B2%D0%BB%D0%B5%D1%82-%D0%BF%D1%80%D0%B5%D0%BE%D0%B1%D1%80%D0%B0%D0%B7%D0%BE%D0%B2%D0%B0%D0%BD%D0%B8%D0%B5 <br/>\n",
        "https://habr.com/ru/post/253447/ <br/>\n",
        "https://www.micard.ru/novosti/vsr-v-programme-rabochee-mesto-vracha-dlya-windows <br/>\n",
        "https://ru.wikipedia.org/wiki/%D0%A1%D0%BF%D0%B5%D0%BA%D1%82%D1%80%D0%BE%D0%B3%D1%80%D0%B0%D0%BC%D0%BC%D0%B0 <br/>"
      ]
    },
    {
      "attachments": {},
      "cell_type": "markdown",
      "metadata": {},
      "source": [
        "# Теория"
      ]
    },
    {
      "attachments": {},
      "cell_type": "markdown",
      "metadata": {},
      "source": [
        "## Преобразование Фурье"
      ]
    },
    {
      "attachments": {},
      "cell_type": "markdown",
      "metadata": {},
      "source": [
        "![title](./forier.jpg)\n",
        "\n",
        "Для анализа периодических сигналов в инженерной практике широко используют мощный математический аппарат, именуемый в общем «<b>Фурье-анализ</b>».\n",
        "\n",
        "Не так давно, в 19 веке, французский математик Жан Батист Жозеф Фурье показал, что любую функцию, удовлетворяющую некоторым условиям (непрерывность во времени, периодичность, удовлетворение условиям Дирихле) можно разложить в ряд, который в дальнейшем получил его имя — <b>ряд Фурье</b>.\n",
        "\n",
        "В инженерной практике разложение периодических функций в ряд Фурье широко используется, например, в задачах теории цепей: несинусоидальное входное воздействие раскладывают на сумму синусоидальных и рассчитывают необходимые параметры цепей, например, по методу наложения.\n",
        "\n",
        "Существует несколько возможных вариантов записи коэффициентов ряда Фурье, нам же лишь необходимо знать суть.\n",
        "Разложение в ряд Фурье позволяет разложить непрерывную функцию в сумму других непрерывных функций. И в общем случае, ряд будет иметь бесконечное количество членов.\n",
        "\n",
        "Дальнейшим усовершенствованием подхода Фурье является интегральное преобразование его же имени. <b>Преобразование Фурье</b>. <b>Преобразование Фурье позволяет разложить исходный сигнал на гармонические составляющие</b>.\n",
        "В отличие от ряда Фурье, преобразование Фурье раскладывает функцию не по дискретным частотам (набор частот ряда Фурье, по которым происходит разложение, вообще говоря, дискретный), а по непрерывным.\n",
        "Давайте взглянем на то, как соотносятся коэффициенты ряда Фурье и результат преобразования Фурье, именуемый, собственно, <b>спектром</b>.\n",
        "Небольшое отступление: спектр преобразования Фурье — в общем случае, функция комплексная, описывающая <b>комплексные амплитуды</b> соответствующих гармоник. Т.е., значения спектра — это комплексные числа, чьи модули являются амплитудами соответствующих частот, а аргументы — соответствующими начальными фазами. На практике, рассматривают отдельно <b>амплитудный спектр</b> и <b>фазовый спектр</b>.\n",
        "\n",
        "Соответствие ряда Фурье и преобразования Фурье на примере амплитудного спектра.\n",
        "![title](./habr1.png)\n",
        "\n",
        "Однако, преобразование Фурье сопоставляет непрерывной во времени, бесконечной функции другую, непрерывную по частоте, бесконечную функцию — спектр. Как быть, если у нас нет бесконечной во времени функции, а есть лишь какая-то записанная её дискретная во времени часть? Ответ на этот вопрос даёт дальнейшей развитие преобразования Фурье — дискретное преобразование Фурье (ДПФ).\n",
        "\n",
        "Дискретное преобразование Фурье призвано решить проблему необходимости непрерывности и бесконечности во времени сигнала. По сути, мы полагаем, что вырезали какую-то часть бесконечного сигнала, а всю остальную временную область считаем этот сигнал нулевым.\n",
        "\n",
        "Математически это означает, что, имея исследуемую бесконечную во времени функцию f(t), мы умножаем ее на некоторую оконную функцию w(t), которая обращается в ноль везде, кроме интересующего нас интервала времени.\n",
        "\n",
        "Если «выходом» классического преобразования Фурье является спектр – функция, то «выходом» дискретного преобразования Фурье является дискретный спектр. И на вход тоже подаются отсчёты дискретного сигнала."
      ]
    },
    {
      "attachments": {},
      "cell_type": "markdown",
      "metadata": {},
      "source": [
        "## Спектрограмма\n",
        "\n",
        "Спектрограмма мужского голоса\n",
        "\n",
        "![title](./spectr1.png)\n",
        "\n",
        "Спектрограмма — изображение, показывающее зависимость спектральной плотности мощности сигнала от времени. Спектрограммы применяются для идентификации речи, анализа звуков животных, в различных областях музыки, радио- и гидролокации, обработке речи, сейсмологии и в других областях.\n",
        "\n",
        "Наиболее распространенным представлением спектрограммы является двумерная диаграмма: на горизонтальной оси представлено время, по вертикальной оси — частота; третье измерение с указанием амплитуды на определенной частоте в конкретный момент времени представлено интенсивностью или цветом каждой точки изображения.\n",
        "\n",
        "Есть много вариантов представления: иногда вертикальная и горизонтальная оси включены так, что время бежит вверх и вниз, иногда амплитуда представлена вершинами в трёхмерном пространстве, а не цветом или интенсивностью. Частота и амплитуда осей может быть линейными или логарифмическими, в зависимости от того, с какой целью используется график. Аудио обычно может быть представлено с логарифмической осью амплитуды (зачастую, в децибелах или дБ), и частота будет линейной, чтобы подчеркнуть гармонические отношения, или логарифмической, чтобы подчеркнуть музыкальные, тональные отношения.\n",
        "\n",
        "Спектрограмма обычно создаётся одним из двух способов: аппроксимируется, как набор фильтров, полученных из серии полосовых фильтров (это был единственный способ до появления современных методов цифровой обработки сигналов), или рассчитывается по сигналу времени, используя оконное преобразование Фурье. Эти два способа фактически образуют разные квадратичные частотно-временные распределения, но эквивалентны при некоторых условиях."
      ]
    },
    {
      "attachments": {},
      "cell_type": "markdown",
      "metadata": {},
      "source": [
        "## Диаграмма рассеяния\n",
        "\n",
        "![title](./scatter.svg)\n",
        "\n",
        "Диаграмма рассеяния (также точечная диаграмма, англ. scatter plot) — математическая диаграмма, изображающая значения двух переменных в виде точек на декартовой плоскости. Могут использоваться и полярные координаты, особенно в случаях, когда одна из переменных представляет собой физическое направление или имеет циклический характер.\n",
        "\n",
        "На диаграмме рассеяния каждому наблюдению (или элементарной единице набора данных) соответствует точка, координаты которой равны значениям двух каких-то параметров этого наблюдения. Если предполагается, что один из параметров зависит от другого, то обычно значения независимого параметра откладывается по горизонтальной оси, а значения зависимого — по вертикальной. Диаграммы рассеяния используются для демонстрации наличия или отсутствия корреляции между двумя переменными.\n",
        "\n",
        "В физике под диаграммой рассеяния обычно понимают подобную диаграмму для случая физического рассеяния частиц, при этом независимая переменная (представленная обычно горизонтальной декартовой координатой или углом в полярных координатах) представляет собой физический угол рассеяния частицы (в этом случае нередко используются полярные координаты) или энергию падающих частиц, а зависимая координата (вертикальная в декартовых или радиальная в полярных) — эффективное сечение рассеяния — может быть представлено, в том числе на одной диаграмме, и теоретическое значение (тогда нередко это непрерывная кривая), и экспериментальные оценки (часто в виде точек, дополненных изображением доверительных интервалов)."
      ]
    },
    {
      "attachments": {},
      "cell_type": "markdown",
      "metadata": {},
      "source": [
        "# Обработка данных"
      ]
    },
    {
      "cell_type": "code",
      "execution_count": 108,
      "metadata": {
        "colab": {
          "base_uri": "https://localhost:8080/"
        },
        "id": "YNCQNmbRsW4-",
        "outputId": "a430efcd-b764-457a-a212-570c1876e794"
      },
      "outputs": [
        {
          "name": "stdout",
          "output_type": "stream",
          "text": [
            "Defaulting to user installation because normal site-packages is not writeable\n",
            "Requirement already satisfied: pandas in c:\\users\\nick\\appdata\\roaming\\python\\python310\\site-packages (1.5.1)\n",
            "Requirement already satisfied: numpy in c:\\users\\nick\\appdata\\roaming\\python\\python310\\site-packages (1.23.4)\n",
            "Requirement already satisfied: matplotlib in c:\\users\\nick\\appdata\\roaming\\python\\python310\\site-packages (3.6.0)\n",
            "Requirement already satisfied: seaborn in c:\\users\\nick\\appdata\\roaming\\python\\python310\\site-packages (0.12.1)\n",
            "Requirement already satisfied: pytz>=2020.1 in c:\\users\\nick\\appdata\\roaming\\python\\python310\\site-packages (from pandas) (2022.5)\n",
            "Requirement already satisfied: python-dateutil>=2.8.1 in c:\\users\\nick\\appdata\\roaming\\python\\python310\\site-packages (from pandas) (2.8.2)\n",
            "Requirement already satisfied: contourpy>=1.0.1 in c:\\users\\nick\\appdata\\roaming\\python\\python310\\site-packages (from matplotlib) (1.0.5)\n",
            "Requirement already satisfied: pyparsing>=2.2.1 in c:\\users\\nick\\appdata\\roaming\\python\\python310\\site-packages (from matplotlib) (3.0.9)\n",
            "Requirement already satisfied: fonttools>=4.22.0 in c:\\users\\nick\\appdata\\roaming\\python\\python310\\site-packages (from matplotlib) (4.38.0)\n",
            "Requirement already satisfied: kiwisolver>=1.0.1 in c:\\users\\nick\\appdata\\roaming\\python\\python310\\site-packages (from matplotlib) (1.4.4)\n",
            "Requirement already satisfied: pillow>=6.2.0 in c:\\users\\nick\\appdata\\roaming\\python\\python310\\site-packages (from matplotlib) (9.2.0)\n",
            "Requirement already satisfied: cycler>=0.10 in c:\\users\\nick\\appdata\\roaming\\python\\python310\\site-packages (from matplotlib) (0.11.0)\n",
            "Requirement already satisfied: packaging>=20.0 in c:\\users\\nick\\appdata\\roaming\\python\\python310\\site-packages (from matplotlib) (21.3)\n",
            "Requirement already satisfied: six>=1.5 in c:\\users\\nick\\appdata\\roaming\\python\\python310\\site-packages (from python-dateutil>=2.8.1->pandas) (1.16.0)\n"
          ]
        },
        {
          "name": "stderr",
          "output_type": "stream",
          "text": [
            "\n",
            "[notice] A new release of pip available: 22.3.1 -> 23.0\n",
            "[notice] To update, run: python.exe -m pip install --upgrade pip\n"
          ]
        }
      ],
      "source": [
        "! pip install pandas numpy matplotlib seaborn scipy"
      ]
    },
    {
      "cell_type": "markdown",
      "metadata": {
        "id": "ge9BvXd4sW4_"
      },
      "source": [
        "Импортируем необходимые модули:"
      ]
    },
    {
      "cell_type": "code",
      "execution_count": 109,
      "metadata": {
        "id": "nWtzmJ79sW5A"
      },
      "outputs": [],
      "source": [
        "import numpy as np\n",
        "import matplotlib.pyplot as plt\n",
        "import pandas as pd\n",
        "import seaborn as sns\n",
        "from scipy.signal import find_peaks\n",
        "%matplotlib inline"
      ]
    },
    {
      "cell_type": "code",
      "execution_count": 74,
      "metadata": {
        "colab": {
          "base_uri": "https://localhost:8080/"
        },
        "id": "zyzCcgzMsW5B",
        "outputId": "77f29103-d95c-4211-da2e-f8d311f60005"
      },
      "outputs": [],
      "source": [
        "data_normal1 = pd.read_csv(\"normal1.dat\", \n",
        "                 sep=\"\\t+\", \n",
        "                 skiprows=1,\n",
        "                 engine='python',\n",
        "                 names=['A1(X)',\t'A1(Y)',\t'A2(X)',\t'A2(Y)',\t'A3(X)',\t'A3(Y)',\t'B3(X)',\t'B3(Y)',\t'B2(X)',\t'B2(Y)'])"
      ]
    },
    {
      "cell_type": "markdown",
      "metadata": {},
      "source": [
        "Каждый столбец X убираем, так как каждая строка соответсвует отдельному моменту времени, числовые значения которых мы не будем использовать"
      ]
    },
    {
      "cell_type": "code",
      "execution_count": 75,
      "metadata": {
        "colab": {
          "base_uri": "https://localhost:8080/",
          "height": 424
        },
        "id": "fFC7c_edAnAX",
        "outputId": "870c3aac-8a12-46aa-c90b-fe78b2fc4c51"
      },
      "outputs": [],
      "source": [
        "data_normal1 = data_normal1.drop(labels=[\"A1(X)\", \"A2(X)\", \"A3(X)\", \"B3(X)\", \"B2(X)\"], axis=1)"
      ]
    },
    {
      "cell_type": "code",
      "execution_count": 76,
      "metadata": {
        "colab": {
          "base_uri": "https://localhost:8080/"
        },
        "id": "TIMDMmLZ_XR6",
        "outputId": "0e536060-4f04-4059-980f-9eba1b1bc27f"
      },
      "outputs": [],
      "source": [
        "data_normal2 = pd.read_csv(\"normal2.dat\", \n",
        "                 sep=\"\\t+\", \n",
        "                 skiprows=1,\n",
        "                 engine='python',\n",
        "                 names=['D1(X)',\t'D1(Y)',\t'D3(X)',\t'D3(Y)',\t'D4(X)',\t'D4(Y)',\t'C3(X)',\t'C3(Y)',\t'C2(X)',\t'C2(Y)'])"
      ]
    },
    {
      "cell_type": "code",
      "execution_count": 77,
      "metadata": {
        "colab": {
          "base_uri": "https://localhost:8080/",
          "height": 424
        },
        "id": "cmM3qxslAn2G",
        "outputId": "62e88d12-dbef-42ce-943c-bb739968e1a2"
      },
      "outputs": [],
      "source": [
        "data_normal2 = data_normal2.drop(labels=[\"D1(X)\", \"D3(X)\", \"D4(X)\", \"C3(X)\", \"C2(X)\"], axis=1)"
      ]
    },
    {
      "cell_type": "code",
      "execution_count": 78,
      "metadata": {
        "colab": {
          "base_uri": "https://localhost:8080/"
        },
        "id": "cuY1d34I_qWR",
        "outputId": "14ccc83c-8076-47f7-b535-24729a9be883"
      },
      "outputs": [],
      "source": [
        "data_normal3 = pd.read_csv(\"normal3.dat\", \n",
        "                 sep=\"\\t+\", \n",
        "                 skiprows=1,\n",
        "                 engine='python',\n",
        "                 names=['E2(X)',\t'E2(Y)',\t'E3(X)',\t'E3(Y)',\t'E4(X)',\t'E4(Y)',\t'F1(X)',\t'F1(Y)',\t'F3(X)',\t'F3(Y)'])"
      ]
    },
    {
      "cell_type": "code",
      "execution_count": 79,
      "metadata": {
        "colab": {
          "base_uri": "https://localhost:8080/",
          "height": 424
        },
        "id": "1_l4aEPOAtM0",
        "outputId": "b9466d61-a10c-4e54-bea0-bc7d5e3eafbc"
      },
      "outputs": [],
      "source": [
        "data_normal3 = data_normal3.drop(labels=[\"E2(X)\", \"E3(X)\", \"E4(X)\", \"F1(X)\", \"F3(X)\"], axis=1)"
      ]
    },
    {
      "cell_type": "code",
      "execution_count": 80,
      "metadata": {
        "colab": {
          "base_uri": "https://localhost:8080/"
        },
        "id": "Sgo428Qh_q0m",
        "outputId": "9d0bd922-21f9-4e2b-a930-2b9bbc56a859"
      },
      "outputs": [],
      "source": [
        "data_normal4 = pd.read_csv(\"normal4.dat\", \n",
        "                 sep=\"\\t+\", \n",
        "                 skiprows=1,\n",
        "                 engine='python',\n",
        "                 names=['F4(X)',\t'F4(Y)',\t'F5(X)',\t'F5(Y)',\t'G3(X)',\t'G3(Y)',\t'G2(X)',\t'G2(Y)'])"
      ]
    },
    {
      "cell_type": "code",
      "execution_count": 81,
      "metadata": {
        "colab": {
          "base_uri": "https://localhost:8080/",
          "height": 424
        },
        "id": "lOhgsWtPAto8",
        "outputId": "ff61a9e4-60d7-464f-8af0-930acbd52aaf"
      },
      "outputs": [],
      "source": [
        "data_normal4 = data_normal4.drop(labels=[\"F4(X)\", \"F5(X)\", \"G3(X)\", \"G2(X)\"], axis=1)"
      ]
    },
    {
      "cell_type": "code",
      "execution_count": 82,
      "metadata": {
        "colab": {
          "base_uri": "https://localhost:8080/"
        },
        "id": "uRnDf2ER_sC7",
        "outputId": "271de8f1-257b-4bf5-f5de-3b449a4411d1"
      },
      "outputs": [],
      "source": [
        "data_normal5 = pd.read_csv(\"normal5.dat\", \n",
        "                 sep=\"\\t+\", \n",
        "                 skiprows=1,\n",
        "                 engine='python',\n",
        "                 names=['H2(X)',\t'H2(Y)',\t'H3(X)',\t'H3(Y)',\t'H4(X)',\t'H4(Y)',\t'J3(X)',\t'J3(Y)'])"
      ]
    },
    {
      "cell_type": "code",
      "execution_count": 83,
      "metadata": {
        "colab": {
          "base_uri": "https://localhost:8080/",
          "height": 424
        },
        "id": "E8mlPs3EAuB5",
        "outputId": "200191f3-8274-415c-f9c6-8052d3101212"
      },
      "outputs": [],
      "source": [
        "data_normal5 = data_normal5.drop(labels=[\"H2(X)\", \"H3(X)\", \"H4(X)\", \"J3(X)\"], axis=1)"
      ]
    },
    {
      "cell_type": "markdown",
      "metadata": {},
      "source": [
        "Соединяем все фрагменты и получаем целый массив данных для нормы."
      ]
    },
    {
      "cell_type": "code",
      "execution_count": 84,
      "metadata": {
        "id": "5LYXKYZ4Ad1H"
      },
      "outputs": [],
      "source": [
        "data_normal = pd.concat([data_normal1, data_normal2, data_normal3, data_normal4, data_normal5], axis=1)"
      ]
    },
    {
      "cell_type": "markdown",
      "metadata": {},
      "source": [
        "Переименуем все столбцы:"
      ]
    },
    {
      "cell_type": "code",
      "execution_count": 85,
      "metadata": {},
      "outputs": [],
      "source": [
        "new_columns = []\n",
        "for i in range(len(data_normal.columns)):\n",
        "    new_columns.append(data_normal.columns[i][:2])\n",
        "data_normal.columns = new_columns"
      ]
    },
    {
      "cell_type": "markdown",
      "metadata": {},
      "source": [
        "Теперь считываем данные при аритмии:"
      ]
    },
    {
      "cell_type": "code",
      "execution_count": 86,
      "metadata": {
        "colab": {
          "base_uri": "https://localhost:8080/"
        },
        "id": "ClJnhiJLEAcC",
        "outputId": "ceed300a-6f29-464f-81f2-b0a8e73aad09"
      },
      "outputs": [],
      "source": [
        "data_arrhythmia1 = pd.read_csv(\"arrhythmia1.dat\", \n",
        "                 sep=\"\\t+\", \n",
        "                 skiprows=1,\n",
        "                 engine='python',\n",
        "                 names=['A1(X)',\t'A1(Y)',\t'A2(X)',\t'A2(Y)',\t'A3(X)',\t'A3(Y)',\t'B3(X)',\t'B3(Y)',\t'B2(X)',\t'B2(Y)'])"
      ]
    },
    {
      "cell_type": "code",
      "execution_count": 87,
      "metadata": {
        "colab": {
          "base_uri": "https://localhost:8080/",
          "height": 424
        },
        "id": "5X4PMODtEAcD",
        "outputId": "9c8af7f3-e1a1-4080-db4f-cb5b5375399b"
      },
      "outputs": [],
      "source": [
        "data_arrhythmia1 = data_arrhythmia1.drop(labels=[\"A1(X)\", \"A2(X)\", \"A3(X)\", \"B3(X)\", \"B2(X)\"], axis=1)"
      ]
    },
    {
      "cell_type": "code",
      "execution_count": 88,
      "metadata": {
        "colab": {
          "base_uri": "https://localhost:8080/"
        },
        "id": "kLv1-DrSEAcD",
        "outputId": "b5d5aca2-1a96-4965-812a-32889ca8eef9"
      },
      "outputs": [],
      "source": [
        "data_arrhythmia2 = pd.read_csv(\"arrhythmia2.dat\", \n",
        "                 sep=\"\\t+\", \n",
        "                 skiprows=1,\n",
        "                 engine='python',\n",
        "                 names=['D1(X)',\t'D1(Y)',\t'D3(X)',\t'D3(Y)',\t'D4(X)',\t'D4(Y)',\t'C3(X)',\t'C3(Y)',\t'C2(X)',\t'C2(Y)'])"
      ]
    },
    {
      "cell_type": "code",
      "execution_count": 89,
      "metadata": {
        "colab": {
          "base_uri": "https://localhost:8080/",
          "height": 424
        },
        "id": "yn760DLLEAcD",
        "outputId": "de34879d-58b8-467a-db5e-a49e82c48742"
      },
      "outputs": [],
      "source": [
        "data_arrhythmia2 = data_arrhythmia2.drop(labels=[\"D1(X)\", \"D3(X)\", \"D4(X)\", \"C3(X)\", \"C2(X)\"], axis=1)"
      ]
    },
    {
      "cell_type": "code",
      "execution_count": 90,
      "metadata": {
        "colab": {
          "base_uri": "https://localhost:8080/"
        },
        "id": "gqlqi9gxEAcD",
        "outputId": "0685585f-f175-4712-b85f-c18143e8709c"
      },
      "outputs": [],
      "source": [
        "data_arrhythmia3 = pd.read_csv(\"arrhythmia3.dat\", \n",
        "                 sep=\"\\t+\", \n",
        "                 skiprows=1,\n",
        "                 engine='python',\n",
        "                 names=['E2(X)',\t'E2(Y)',\t'E3(X)',\t'E3(Y)',\t'E4(X)',\t'E4(Y)',\t'F1(X)',\t'F1(Y)',\t'F3(X)',\t'F3(Y)'])"
      ]
    },
    {
      "cell_type": "code",
      "execution_count": 91,
      "metadata": {
        "colab": {
          "base_uri": "https://localhost:8080/",
          "height": 424
        },
        "id": "LKFI7qVbEAcE",
        "outputId": "5c290343-acaa-40ea-ae68-69a97d483467"
      },
      "outputs": [],
      "source": [
        "data_arrhythmia3 = data_arrhythmia3.drop(labels=[\"E2(X)\", \"E3(X)\", \"E4(X)\", \"F1(X)\", \"F3(X)\"], axis=1)"
      ]
    },
    {
      "cell_type": "code",
      "execution_count": 92,
      "metadata": {
        "colab": {
          "base_uri": "https://localhost:8080/"
        },
        "id": "Faz-4MVlEAcE",
        "outputId": "73279cb9-98b1-44e0-e137-26182bae735a"
      },
      "outputs": [],
      "source": [
        "data_arrhythmia4 = pd.read_csv(\"arrhythmia4.dat\", \n",
        "                 sep=\"\\t+\", \n",
        "                 skiprows=1,\n",
        "                 engine='python',\n",
        "                 names=['F4(X)',\t'F4(Y)',\t'F5(X)',\t'F5(Y)',\t'G3(X)',\t'G3(Y)',\t'G2(X)',\t'G2(Y)'])"
      ]
    },
    {
      "cell_type": "code",
      "execution_count": 93,
      "metadata": {
        "colab": {
          "base_uri": "https://localhost:8080/",
          "height": 424
        },
        "id": "72shBnKsEAcE",
        "outputId": "93592e6e-d951-424f-d8ae-805ae3fa9497"
      },
      "outputs": [],
      "source": [
        "data_arrhythmia4 = data_arrhythmia4.drop(labels=[\"F4(X)\", \"F5(X)\", \"G3(X)\", \"G2(X)\"], axis=1)"
      ]
    },
    {
      "cell_type": "code",
      "execution_count": 94,
      "metadata": {
        "colab": {
          "base_uri": "https://localhost:8080/"
        },
        "id": "A_oHteVpEAcE",
        "outputId": "bfb2747f-7a30-4628-b406-cf950730e120"
      },
      "outputs": [],
      "source": [
        "data_arrhythmia5 = pd.read_csv(\"arrhythmia5.dat\", \n",
        "                 sep=\"\\t+\", \n",
        "                 skiprows=1,\n",
        "                 engine='python',\n",
        "                 names=['H2(X)',\t'H2(Y)',\t'H3(X)',\t'H3(Y)',\t'H4(X)',\t'H4(Y)',\t'J3(X)',\t'J3(Y)'])"
      ]
    },
    {
      "cell_type": "code",
      "execution_count": 95,
      "metadata": {
        "colab": {
          "base_uri": "https://localhost:8080/",
          "height": 424
        },
        "id": "elvQB2niEAcF",
        "outputId": "44809d16-6135-42e6-c766-9a696a9b3bd9"
      },
      "outputs": [],
      "source": [
        "data_arrhythmia5 = data_arrhythmia5.drop(labels=[\"H2(X)\", \"H3(X)\", \"H4(X)\", \"J3(X)\"], axis=1)"
      ]
    },
    {
      "cell_type": "markdown",
      "metadata": {},
      "source": [
        "Соединяем все фрагменты и получаем целый массив данных для аритмии."
      ]
    },
    {
      "cell_type": "code",
      "execution_count": 96,
      "metadata": {
        "id": "kDStE3OrEAcF"
      },
      "outputs": [],
      "source": [
        "data_arrhythmia = pd.concat([data_arrhythmia1, data_arrhythmia2, data_arrhythmia3, data_arrhythmia4, data_arrhythmia5], axis=1)"
      ]
    },
    {
      "cell_type": "code",
      "execution_count": 97,
      "metadata": {},
      "outputs": [],
      "source": [
        "new_columns = []\n",
        "for i in range(len(data_arrhythmia.columns)):\n",
        "    new_columns.append(data_arrhythmia.columns[i][:2])\n",
        "data_arrhythmia.columns = new_columns"
      ]
    },
    {
      "attachments": {},
      "cell_type": "markdown",
      "metadata": {},
      "source": [
        "# Анализ длин интервалов RR и значений напряжений пиков R"
      ]
    },
    {
      "cell_type": "markdown",
      "metadata": {},
      "source": [
        "Находим зубцы R для всех электродов в норме, выставляем минимальную дистанцию между пиками = 300:"
      ]
    },
    {
      "cell_type": "code",
      "execution_count": 101,
      "metadata": {
        "colab": {
          "base_uri": "https://localhost:8080/",
          "height": 611
        },
        "id": "7-0-ifv7vHSg",
        "outputId": "ab68aa4d-68b6-483d-eeb1-bb74646cbca0"
      },
      "outputs": [],
      "source": [
        "peaks_normal = []\n",
        "\n",
        "for col in data_normal.columns:\n",
        "    l = len(data_normal[col])\n",
        "    # l = 2000\n",
        "    threshold = 5000\n",
        "\n",
        "    x, _ = find_peaks(data_normal.head(l)[col], height=threshold, distance=300)\n",
        "    peaks_normal.append(x)"
      ]
    },
    {
      "attachments": {},
      "cell_type": "markdown",
      "metadata": {},
      "source": [
        "Находим RR-интервалы в норме"
      ]
    },
    {
      "cell_type": "code",
      "execution_count": 102,
      "metadata": {},
      "outputs": [],
      "source": [
        "intervals_normal = []\n",
        "\n",
        "for col in range(0, len(data_normal.columns)):\n",
        "    t = []\n",
        "    for x in range(0, len(peaks_normal[col]) - 1):\n",
        "        t.append(peaks_normal[col][x + 1] - peaks_normal[col][x])\n",
        "    intervals_normal.append(t)"
      ]
    },
    {
      "cell_type": "markdown",
      "metadata": {},
      "source": [
        "Находим пики R для всех электродов при аритмии:"
      ]
    },
    {
      "cell_type": "code",
      "execution_count": 103,
      "metadata": {
        "colab": {
          "base_uri": "https://localhost:8080/",
          "height": 609
        },
        "id": "IYbDTcliE0gt",
        "outputId": "7c8f21ac-0ef3-4486-c314-e500747f07b9"
      },
      "outputs": [],
      "source": [
        "peaks_arrhythmia = []\n",
        "\n",
        "for col in data_arrhythmia.columns:\n",
        "    l = len(data_arrhythmia[col])\n",
        "    # l = 2000\n",
        "    threshold = 7000\n",
        "\n",
        "    x, _ = find_peaks(data_arrhythmia.head(l)[col], height=threshold, distance=300)\n",
        "    peaks_arrhythmia.append(x)"
      ]
    },
    {
      "attachments": {},
      "cell_type": "markdown",
      "metadata": {},
      "source": [
        "Находим RR-интервалы при аритмии"
      ]
    },
    {
      "cell_type": "code",
      "execution_count": 104,
      "metadata": {},
      "outputs": [],
      "source": [
        "intervals_arrhythmia = []\n",
        "\n",
        "for col in range(0, len(data_normal.columns)):\n",
        "    t = []\n",
        "    for x in range(0, len(peaks_arrhythmia[col]) - 1):\n",
        "        t.append(peaks_arrhythmia[col][x + 1] - peaks_arrhythmia[col][x])\n",
        "    intervals_arrhythmia.append(t)"
      ]
    },
    {
      "attachments": {},
      "cell_type": "markdown",
      "metadata": {},
      "source": [
        "# Скаттерограмма (Scatter plot)"
      ]
    },
    {
      "attachments": {},
      "cell_type": "markdown",
      "metadata": {},
      "source": [
        "Построим Scatter plot для первых 50 интервалов в обоих случаях"
      ]
    },
    {
      "cell_type": "code",
      "execution_count": 105,
      "metadata": {},
      "outputs": [
        {
          "data": {
            "image/png": "[encoded data removed]",
            "text/plain": [
              "<Figure size 640x480 with 1 Axes>"
            ]
          },
          "metadata": {},
          "output_type": "display_data"
        }
      ],
      "source": [
        "for int in intervals_normal:\n",
        "    x = np.array(int[0 : 50]) / 1000.0\n",
        "    y = np.array(int[0 + 1:51]) / 1000.0\n",
        "    plt.scatter(x, y, alpha=0.5)\n",
        "\n",
        "plt.show()"
      ]
    },
    {
      "cell_type": "code",
      "execution_count": 106,
      "metadata": {},
      "outputs": [
        {
          "data": {
            "image/png": "[encoded data removed]",
            "text/plain": [
              "<Figure size 640x480 with 1 Axes>"
            ]
          },
          "metadata": {},
          "output_type": "display_data"
        }
      ],
      "source": [
        "for int in intervals_arrhythmia:\n",
        "    x = np.array(int[0:50]) / 1000.0\n",
        "    y = np.array(int[0 + 1:51]) / 1000.0\n",
        "    plt.scatter(x, y, alpha=0.5)\n",
        "\n",
        "plt.show()"
      ]
    }
  ],
  "metadata": {
    "colab": {
      "collapsed_sections": [],
      "provenance": []
    },
    "kernelspec": {
      "display_name": "Python 3.10.6 64-bit",
      "language": "python",
      "name": "python3"
    },
    "language_info": {
      "codemirror_mode": {
        "name": "ipython",
        "version": 3
      },
      "file_extension": ".py",
      "mimetype": "text/x-python",
      "name": "python",
      "nbconvert_exporter": "python",
      "pygments_lexer": "ipython3",
      "version": "3.10.6"
    },
    "orig_nbformat": 4,
    "vscode": {
      "interpreter": {
        "hash": "26de051ba29f2982a8de78e945f0abaf191376122a1563185a90213a26c5da77"
      }
    }
  },
  "nbformat": 4,
  "nbformat_minor": 0
}
